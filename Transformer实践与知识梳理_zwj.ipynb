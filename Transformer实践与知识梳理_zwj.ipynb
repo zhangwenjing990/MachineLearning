{
 "cells": [
  {
   "cell_type": "markdown",
   "metadata": {},
   "source": [
    "# 位置编码-positional encoding"
   ]
  },
  {
   "cell_type": "markdown",
   "metadata": {},
   "source": [
    "在NLP中，位置信息表征词/字之间的时序关系。在RNN中以输入词向量的先后顺序表示时序，而在transformer中以位置编码表示，公式为：\n",
    "![位置编码](./截图/位置编码.png)\n",
    "\n",
    "在论文中，作者解释：\n",
    "\n",
    "选择该函数的原因为，我们假设它能让模型更容易的学习到相对位置关系。因为对任意的固定偏移量k，pos+k的位置编码可以由pos的位置编码经过线性变换得到。\n",
    "\n",
    "![](./截图/位置编码2.png)\n",
    "\n",
    "sin和cos是必须的，但不是非要设置奇偶下标，实际布局可以简单来。\n",
    "\n",
    "论文中的范围从 2$\\pi$->10000 * 2$\\pi$ 。变化即可，具体的步长和范围并不重要"
   ]
  },
  {
   "cell_type": "markdown",
   "metadata": {},
   "source": [
    "# 调参注意事项"
   ]
  },
  {
   "cell_type": "code",
   "execution_count": 6,
   "metadata": {},
   "outputs": [
    {
     "name": "stderr",
     "output_type": "stream",
     "text": [
      "'nvidia' 不是内部或外部命令，也不是可运行的程序\n",
      "或批处理文件。\n"
     ]
    }
   ],
   "source": [
    "! nvidia -smi"
   ]
  },
  {
   "cell_type": "markdown",
   "metadata": {},
   "source": [
    "# 显存占用分析"
   ]
  },
  {
   "cell_type": "markdown",
   "metadata": {},
   "source": [
    "关于显存的分析参考文章https://zhuanlan.zhihu.com/p/31558973"
   ]
  },
  {
   "cell_type": "markdown",
   "metadata": {},
   "source": [
    "显存占用 = 模型显存占用 + batch_size × 每个样本的显存占用"
   ]
  },
  {
   "cell_type": "code",
   "execution_count": null,
   "metadata": {},
   "outputs": [],
   "source": []
  }
 ],
 "metadata": {
  "kernelspec": {
   "display_name": "Python 3",
   "language": "python",
   "name": "python3"
  },
  "language_info": {
   "codemirror_mode": {
    "name": "ipython",
    "version": 3
   },
   "file_extension": ".py",
   "mimetype": "text/x-python",
   "name": "python",
   "nbconvert_exporter": "python",
   "pygments_lexer": "ipython3",
   "version": "3.7.1"
  },
  "toc": {
   "base_numbering": 1,
   "nav_menu": {},
   "number_sections": true,
   "sideBar": true,
   "skip_h1_title": false,
   "title_cell": "Table of Contents",
   "title_sidebar": "Contents",
   "toc_cell": false,
   "toc_position": {
    "height": "calc(100% - 180px)",
    "left": "10px",
    "top": "150px",
    "width": "198.115px"
   },
   "toc_section_display": true,
   "toc_window_display": false
  }
 },
 "nbformat": 4,
 "nbformat_minor": 2
}
